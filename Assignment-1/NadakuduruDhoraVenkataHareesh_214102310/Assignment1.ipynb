{
 "cells": [
  {
   "cell_type": "markdown",
   "id": "fd010dae",
   "metadata": {},
   "source": [
    "1. Print ’Hello World!’"
   ]
  },
  {
   "cell_type": "code",
   "execution_count": 1,
   "id": "eb651f8f",
   "metadata": {},
   "outputs": [
    {
     "name": "stdout",
     "output_type": "stream",
     "text": [
      "Hello World\n"
     ]
    }
   ],
   "source": [
    "print('Hello World')"
   ]
  },
  {
   "cell_type": "markdown",
   "id": "19739522",
   "metadata": {},
   "source": [
    "2. User input two numbers a and b. Perform the following algebraic opera- tionsc=a+b,d=a−b,e=a∗b,f=ab andg=a%bandprinttheir results.\n"
   ]
  },
  {
   "cell_type": "code",
   "execution_count": 7,
   "id": "ffffa70e",
   "metadata": {},
   "outputs": [
    {
     "name": "stdout",
     "output_type": "stream",
     "text": [
      "Enter 1st num:4\n",
      "Enter 2nd num:8\n",
      "sum is: 12\n",
      "Difference is: -4\n",
      "product is: 32\n",
      "divison is: 0.5\n",
      "Mod is: 4\n"
     ]
    }
   ],
   "source": [
    "#inputs\n",
    "a=int(input('Enter 1st num:'))\n",
    "b=int(input('Enter 2nd num:'))\n",
    "#arthematic operations\n",
    "c= a + b\n",
    "d= a - b\n",
    "e= a * b\n",
    "f= a / b\n",
    "g= a % b\n",
    "print(\"sum is:\", c)\n",
    "print(\"Difference is:\",d)\n",
    "print(\"product is:\",e)\n",
    "print(\"divison is:\",f)\n",
    "print(\"Mod is:\",g)\n"
   ]
  },
  {
   "cell_type": "markdown",
   "id": "209ef257",
   "metadata": {},
   "source": [
    "3. Find the factorial of a number ’num’ and print the result.\n"
   ]
  },
  {
   "cell_type": "code",
   "execution_count": 13,
   "id": "4f13d496",
   "metadata": {},
   "outputs": [
    {
     "name": "stdout",
     "output_type": "stream",
     "text": [
      "enter a number:5\n",
      "Factorial of 5 is 120\n"
     ]
    }
   ],
   "source": [
    "#input\n",
    "num=int(input(\"enter a number:\"))\n",
    "#initialization\n",
    "fact=1\n",
    "#logic\n",
    "if num<0:\n",
    "    print(\"Not Exist\")\n",
    "elif num==0:\n",
    "    print(\"factorial of 0 is 1\")\n",
    "else:\n",
    "    for i in range(1,num+1):\n",
    "        fact=fact*i\n",
    "        \n",
    "#printing        \n",
    "print(\"Factorial of\",num,\"is\",fact)"
   ]
  },
  {
   "cell_type": "markdown",
   "id": "b1987d06",
   "metadata": {},
   "source": [
    "4. Take two user inputs a and b. Write a program to print all the prime numbers in the interval [a,b]."
   ]
  },
  {
   "cell_type": "code",
   "execution_count": 14,
   "id": "2df23bb8",
   "metadata": {},
   "outputs": [
    {
     "name": "stdout",
     "output_type": "stream",
     "text": [
      "enter lower range:10\n",
      "enter lower range:50\n",
      "11\n",
      "13\n",
      "17\n",
      "19\n",
      "23\n",
      "29\n",
      "31\n",
      "37\n",
      "41\n",
      "43\n",
      "47\n"
     ]
    }
   ],
   "source": [
    "#inputs\n",
    "lower=int(input('enter lower range:'))\n",
    "upper=int(input('enter lower range:'))\n",
    "#logic\n",
    "for num in range (lower, upper+1):\n",
    "    if num>1:\n",
    "        for i in range (2,num):\n",
    "            if(num%i)==0:\n",
    "                break\n",
    "        else:\n",
    "            print(num)"
   ]
  },
  {
   "cell_type": "markdown",
   "id": "053fb673",
   "metadata": {},
   "source": [
    "5. Take two user inputs a and b and find their Lowest Common Multi- ple(LCM)."
   ]
  },
  {
   "cell_type": "code",
   "execution_count": 15,
   "id": "eb4b62e4",
   "metadata": {},
   "outputs": [
    {
     "name": "stdout",
     "output_type": "stream",
     "text": [
      "Enter first number:24\n",
      "Enter second number:48\n",
      "48\n"
     ]
    }
   ],
   "source": [
    "#defining lcm logic\n",
    "def lcm(a,b):\n",
    "    lcm.multiple=lcm.multiple+b\n",
    "    if((lcm.multiple % a == 0) and (lcm.multiple % b == 0)):\n",
    "        return lcm.multiple;\n",
    "    else:\n",
    "        lcm(a, b)\n",
    "    return lcm.multiple\n",
    "lcm.multiple=0\n",
    "#input\n",
    "a=int(input(\"Enter first number:\"))\n",
    "b=int(input(\"Enter second number:\"))\n",
    "#calling lcm making a as small out of 2 given num\n",
    "if(a>b):\n",
    "    LCM=lcm(b,a)\n",
    "else:\n",
    "    LCM=lcm(a,b)\n",
    "print(LCM)"
   ]
  },
  {
   "cell_type": "markdown",
   "id": "087f06d7",
   "metadata": {},
   "source": [
    "6. Create a list of length n = 15. Sort the array in descending order and print the sorted List as well as the sorted indices. Use the bubble sort algorithm."
   ]
  },
  {
   "cell_type": "code",
   "execution_count": 52,
   "id": "dc1b8d8b",
   "metadata": {},
   "outputs": [
    {
     "name": "stdout",
     "output_type": "stream",
     "text": [
      "The unsorted list is:  [5, 3, 8, 6, 7, 2, 44, 45, 96, 89, 21, 44, 66, 8, 4]\n",
      "The sorted list, sorted indices is:  ([2, 3, 4, 5, 6, 7, 8, 8, 21, 44, 44, 45, 66, 89, 96], [5, 1, 13, 0, 3, 4, 2, 12, 8, 6, 10, 7, 11, 9, 8, 14])\n"
     ]
    }
   ],
   "source": [
    "\n",
    "# Creating a bubblesort fun \n",
    "\n",
    "def bubble_sort(list1):  \n",
    "    # Outerloop for traverse the entire list  \n",
    "    for i in range(0,len(list1)-1):  \n",
    "        for j in range(len(list1)-1):  \n",
    "            if(list1[j]>list1[j+1]): \n",
    "                temp = list1[j]  \n",
    "                list1[j] = list1[j+1]  \n",
    "                list1[j+1] = temp  \n",
    "                temp2 = list2[j]  \n",
    "                list2[j] = list2[j+1]  \n",
    "                list2[j+1] = temp2\n",
    "                \n",
    "    return list1,   list2  \n",
    "\n",
    "#inputs  \n",
    "list1 = [5, 3, 8, 6, 7, 2,44,45,96,89,21,44,66,8,4]  \n",
    "list2 = [0,1,2,3,4,5,6,7,8,9,8,10,11,12,13,14]\n",
    "print(\"The unsorted list is: \", list1)  \n",
    "#asking the bubblesort fun \n",
    "print(\"The sorted list, sorted indices is: \", bubble_sort(list1)) "
   ]
  },
  {
   "cell_type": "markdown",
   "id": "ff0e1426",
   "metadata": {},
   "source": [
    "7. Repeat the previous program for sorting in ascending order. Use numpy array instead of list."
   ]
  },
  {
   "cell_type": "code",
   "execution_count": 44,
   "id": "a35e84a2",
   "metadata": {},
   "outputs": [
    {
     "name": "stdout",
     "output_type": "stream",
     "text": [
      "[96 89 66 45 44 44 21  8  8  7  6  5  4  3  2]\n"
     ]
    }
   ],
   "source": [
    "#imports\n",
    "import numpy as np\n",
    "\n",
    "list1=np.array([5, 3, 8, 6, 7, 2,44,45,96,89,21,44,66,8,4])\n",
    "list2=np.sort(list1)\n",
    "revlist1=list2[::-1]\n",
    "print(revlist1)\n"
   ]
  },
  {
   "cell_type": "markdown",
   "id": "34bb4afa",
   "metadata": {},
   "source": [
    "8. Print a matrix MεRmxn having random values in the given range [-2, 5]. m and n are to be given as user input.\n"
   ]
  },
  {
   "cell_type": "code",
   "execution_count": 58,
   "id": "e5636a1e",
   "metadata": {},
   "outputs": [
    {
     "name": "stdout",
     "output_type": "stream",
     "text": [
      "enter no.of rows:4\n",
      "enter no.of columns:4\n",
      "[[ 4 -2  0  0]\n",
      " [-2  4  2 -2]\n",
      " [-1  2  2 -1]\n",
      " [ 3  4  1  4]]\n"
     ]
    }
   ],
   "source": [
    "#imports\n",
    "import numpy as np\n",
    "#input data\n",
    "m=int(input(\"enter no.of rows:\"))\n",
    "n=int(input(\"enter no.of columns:\"))\n",
    "#generating random elements in given order of matrix\n",
    "Matrix=np.random.randint(-2,5,size=(m,n))\n",
    "#printing\n",
    "print(Matrix)"
   ]
  },
  {
   "cell_type": "markdown",
   "id": "7769bb86",
   "metadata": {},
   "source": [
    "9. WriteaprogramtomultiplytworandommatricesM1εRmxn,M2εRnxp(Don’t use built-in functions). Compare the result obtained with the built-in function."
   ]
  },
  {
   "cell_type": "code",
   "execution_count": 5,
   "id": "10530990",
   "metadata": {},
   "outputs": [
    {
     "name": "stdout",
     "output_type": "stream",
     "text": [
      "enter no.of rows:4\n",
      "enter no.of columns:4\n",
      "enter colums2:4\n",
      "[[2 3 3 0]\n",
      " [4 0 3 4]\n",
      " [3 0 0 4]\n",
      " [2 3 4 1]]\n",
      "[[4 3 4 0]\n",
      " [1 1 1 3]\n",
      " [0 0 3 2]\n",
      " [3 2 1 0]]\n",
      "[[11, 9, 20, 15], [28, 20, 29, 6], [24, 17, 16, 0], [14, 11, 24, 17]]\n",
      "[[11  9 20 15]\n",
      " [28 20 29  6]\n",
      " [24 17 16  0]\n",
      " [14 11 24 17]]\n"
     ]
    }
   ],
   "source": [
    "#imports\n",
    "import numpy as np\n",
    "#input data\n",
    "m=int(input(\"enter no.of rows:\"))\n",
    "n=int(input(\"enter no.of columns of 1 and rows of 2:\"))\n",
    "p=int(input(\"enter colums2:\"))\n",
    "#generating random elements\n",
    "Matrix=np.random.randint(5,size=(m,n))\n",
    "Matrix1=np.random.randint(5,size=(n,p))\n",
    "print(Matrix)\n",
    "print(Matrix1)                  \n",
    "\n",
    "res = [[0 for x in range(m)] for y in range(p)] \n",
    "  \n",
    "# explicit for loops\n",
    "for i in range(len(Matrix)):\n",
    "    for j in range(len(Matrix1[0])):\n",
    "        for k in range(len(Matrix1)):\n",
    "  \n",
    "            # resulted matrix\n",
    "           res[i][j] += Matrix[i][k] * Matrix1[k][j]\n",
    "  \n",
    "print (res)\n",
    "#using matrix multplication with built in fn\n",
    "res2=Matrix@Matrix1\n",
    "print(res2)"
   ]
  },
  {
   "cell_type": "markdown",
   "id": "97a4f64a",
   "metadata": {},
   "source": [
    "10. Write File operations :\n",
    "• Generate a set of n= 100 random points X = xi, i = 1, ... n, xiεR10.\n",
    "\n",
    "• Write the points to a CSV file (https : //en.wikipedia.org/wiki/Comma− separated − value)"
   ]
  },
  {
   "cell_type": "code",
   "execution_count": 22,
   "id": "5ec9509f",
   "metadata": {},
   "outputs": [],
   "source": [
    "#imports\n",
    "from numpy import random\n",
    "import numpy\n",
    "import pandas as pd\n",
    "list_random  = []\n",
    "for i in range(100):\n",
    "    c = random.randint(100)\n",
    "    list_random.append(c)\n",
    "numpy.savetxt('random.csv',list_random,delimiter =',')"
   ]
  },
  {
   "cell_type": "markdown",
   "id": "9e89e77d",
   "metadata": {},
   "source": [
    "11. Read File operations:\n",
    "• Read the CSV file generated in the previous program to a matrix. Each column of matrix should represent a vector.\n",
    "\n",
    "\n",
    "• Compute the following : C = 1 􏰀n (Xi −μ)(Xi −μ)T where μ = 1 􏰀n n i=1\n",
    "n i=1 Xi where i = 1,2,3 ... n. Xi = [xi1,xi2, ... xi10] is a column vector."
   ]
  },
  {
   "cell_type": "code",
   "execution_count": 5,
   "id": "51e1990b",
   "metadata": {},
   "outputs": [
    {
     "name": "stdout",
     "output_type": "stream",
     "text": [
      "matrix [[49. 40. 79. 10. 11. 45. 13. 79. 93.  8.]\n",
      " [92. 90. 45. 20. 20. 35. 63. 50. 31. 71.]\n",
      " [72. 87. 37. 73. 95. 51. 79. 91. 92.  7.]\n",
      " [13. 53. 60. 18. 62. 46. 10. 61. 54. 30.]\n",
      " [ 9. 55. 41. 80. 58. 59. 41. 89. 80. 62.]\n",
      " [45.  1. 76. 82. 92. 63. 40. 22. 21. 54.]\n",
      " [71. 32. 79. 53. 42. 42. 30. 62. 70. 41.]\n",
      " [96. 33. 97.  2. 44. 20. 73. 92. 11. 28.]\n",
      " [ 9. 71. 54. 24. 94. 91. 42. 67. 94. 59.]\n",
      " [58. 59. 40. 28. 30.  2. 15. 97. 20. 48.]]\n",
      "mean of each column [51.4 52.1 60.8 39.  54.8 45.4 40.6 71.  56.6 40.8]\n",
      "(Xi-mean) [[ -2.4 -12.1  18.2 -29.  -43.8  -0.4 -27.6   8.   36.4 -32.8]\n",
      " [ 40.6  37.9 -15.8 -19.  -34.8 -10.4  22.4 -21.  -25.6  30.2]\n",
      " [ 20.6  34.9 -23.8  34.   40.2   5.6  38.4  20.   35.4 -33.8]\n",
      " [-38.4   0.9  -0.8 -21.    7.2   0.6 -30.6 -10.   -2.6 -10.8]\n",
      " [-42.4   2.9 -19.8  41.    3.2  13.6   0.4  18.   23.4  21.2]\n",
      " [ -6.4 -51.1  15.2  43.   37.2  17.6  -0.6 -49.  -35.6  13.2]\n",
      " [ 19.6 -20.1  18.2  14.  -12.8  -3.4 -10.6  -9.   13.4   0.2]\n",
      " [ 44.6 -19.1  36.2 -37.  -10.8 -25.4  32.4  21.  -45.6 -12.8]\n",
      " [-42.4  18.9  -6.8 -15.   39.2  45.6   1.4  -4.   37.4  18.2]\n",
      " [  6.6   6.9 -20.8 -11.  -24.8 -43.4 -25.6  26.  -36.6   7.2]]\n",
      "0 [ -2.4  40.6  20.6 -38.4 -42.4  -6.4  19.6  44.6 -42.4   6.6]\n",
      "0 [ -2.4  40.6  20.6 -38.4 -42.4  -6.4  19.6  44.6 -42.4   6.6]\n",
      "0 9606.4\n",
      "1 [-12.1  37.9  34.9   0.9   2.9 -51.1 -20.1 -19.1  18.9   6.9]\n",
      "1 [-12.1  37.9  34.9   0.9   2.9 -51.1 -20.1 -19.1  18.9   6.9]\n",
      "1 16201.3\n",
      "2 [ 18.2 -15.8 -23.8  -0.8 -19.8  15.2  18.2  36.2  -6.8 -20.8]\n",
      "2 [ 18.2 -15.8 -23.8  -0.8 -19.8  15.2  18.2  36.2  -6.8 -20.8]\n",
      "2 20092.899999999998\n",
      "3 [-29. -19.  34. -21.  41.  43.  14. -37. -15. -11.]\n",
      "3 [-29. -19.  34. -21.  41.  43.  14. -37. -15. -11.]\n",
      "3 28332.899999999998\n",
      "4 [-43.8 -34.8  40.2   7.2   3.2  37.2 -12.8 -10.8  39.2 -24.8]\n",
      "4 [-43.8 -34.8  40.2   7.2   3.2  37.2 -12.8 -10.8  39.2 -24.8]\n",
      "4 36956.5\n",
      "5 [ -0.4 -10.4   5.6   0.6  13.6  17.6  -3.4 -25.4  45.6 -43.4]\n",
      "5 [ -0.4 -10.4   5.6   0.6  13.6  17.6  -3.4 -25.4  45.6 -43.4]\n",
      "5 42210.9\n",
      "6 [-27.6  22.4  38.4 -30.6   0.4  -0.6 -10.6  32.4   1.4 -25.6]\n",
      "6 [-27.6  22.4  38.4 -30.6   0.4  -0.6 -10.6  32.4   1.4 -25.6]\n",
      "6 47705.3\n",
      "7 [  8. -21.  20. -10.  18. -49.  -9.  21.  -4.  26.]\n",
      "7 [  8. -21.  20. -10.  18. -49.  -9.  21.  -4.  26.]\n",
      "7 52649.3\n",
      "8 [ 36.4 -25.6  35.4  -2.6  23.4 -35.6  13.4 -45.6  37.4 -36.6]\n",
      "8 [ 36.4 -25.6  35.4  -2.6  23.4 -35.6  13.4 -45.6  37.4 -36.6]\n",
      "8 62701.700000000004\n",
      "9 [-32.8  30.2 -33.8 -10.8  21.2  13.2   0.2 -12.8  18.2   7.2]\n",
      "9 [-32.8  30.2 -33.8 -10.8  21.2  13.2   0.2 -12.8  18.2   7.2]\n",
      "9 67119.3\n",
      "6711.93\n"
     ]
    }
   ],
   "source": [
    "#imports\n",
    "from numpy import genfromtxt\n",
    "import numpy as np\n",
    "#reading csv\n",
    "dat = genfromtxt('random.csv',delimiter=',') \n",
    "#reshaping csv into matrix\n",
    "dat1 = np.reshape(dat,(10,10))\n",
    "print('matrix', dat1)\n",
    "columnsum=dat1.sum(axis=0)\n",
    "#print(columnsum)\n",
    "columnsum = columnsum/10\n",
    "print('mean of each column',columnsum)\n",
    "dat2 = np.subtract(dat1, columnsum)\n",
    "print('(Xi-mean)',dat2)\n",
    "C=0\n",
    "for i in range (0,10):\n",
    "    dat3=dat2[:, i]\n",
    "    print(i,dat3)\n",
    "    dat31=dat3.transpose()\n",
    "    print(i,dat31)\n",
    "    C = C+dat3@dat31\n",
    "    print(i,C)\n",
    "print(C/10)"
   ]
  },
  {
   "cell_type": "markdown",
   "id": "43e09fda",
   "metadata": {},
   "source": [
    "12. Define a class for a complex number a + jb. Define member functions to do basic operations conjugate, absolute value, addition, subtraction, multiplication, division and angle. Define two complex numbers c1, c2 and print the results of the following operations c1 + c2, c1 − c2,c1 ∗ c2, c1/c2 , |c1|, |c2|,̸ c1, ̸ c2."
   ]
  },
  {
   "cell_type": "code",
   "execution_count": 53,
   "id": "9b26da33",
   "metadata": {},
   "outputs": [
    {
     "name": "stdout",
     "output_type": "stream",
     "text": [
      "-60+180i\n",
      "23+34i\n",
      "17+26i\n",
      "7.2-2.4i\n",
      "36.05551275463989\n",
      "0.982793723247329\n",
      "5.0\n",
      "0.9272952180016122\n"
     ]
    }
   ],
   "source": [
    "#imports\n",
    "import numpy as np\n",
    "import math\n",
    "#defining class\n",
    "class Complex:\n",
    "    def __init__(self,re=0,im=0):\n",
    "        self.re = re\n",
    "        self.im = im\n",
    "    def __str__(self):\n",
    "        return\"{}{}{}i\".format(self.re,'+'if self.im>=0 else '-',abs(self.im))\n",
    "    def __add__(self,other):\n",
    "        return Complex(self.re+other.re,self.im+other.im)\n",
    "    def __sub__(self,other):\n",
    "        return Complex(self.re-other.re,self.im-other.im)\n",
    "    def __mul__(self,other):\n",
    "        re=self.re*other.re-self.im*other.im\n",
    "        im=self.im*other.im+self.re*other.re\n",
    "        return Complex(re,im)\n",
    "    def conjugate(self):\n",
    "        return Complex(self.re,-self.im)\n",
    "    def abs(self):\n",
    "        x=(self.re*self.re)+(self.im*self.im)\n",
    "        return(math.sqrt(x))\n",
    "    def arg(self):\n",
    "        return np.arctan((self.im/self.re))\n",
    "    def __truediv__(self,other):\n",
    "        conj=other.conjugate()\n",
    "        den=other*conj\n",
    "        den=den.re\n",
    "        num=self*conj\n",
    "        return Complex(num.re/den,num.im/den)\n",
    "#inputs\n",
    "c1=Complex(20,30)\n",
    "c2=Complex(3,4)\n",
    "#outputs\n",
    "print (c1*c2)\n",
    "print (c1+c2)\n",
    "print (c1-c2)\n",
    "print (c1/c2)\n",
    "print (c1.abs())\n",
    "print (c1.arg())\n",
    "print (c2.abs())\n",
    "print (c2.arg())"
   ]
  },
  {
   "cell_type": "markdown",
   "id": "356749dd",
   "metadata": {},
   "source": [
    "13. Plot the function y = 3x + 2 with x [-10, 10]. Use Matplotlib for the same."
   ]
  },
  {
   "cell_type": "code",
   "execution_count": 3,
   "id": "a08726c8",
   "metadata": {},
   "outputs": [
    {
     "data": {
      "image/png": "[encoded data removed]",
      "text/plain": [
       "<Figure size 432x288 with 1 Axes>"
      ]
     },
     "metadata": {
      "needs_background": "light"
     },
     "output_type": "display_data"
    }
   ],
   "source": [
    "#imports\n",
    "from matplotlib import pyplot as plt\n",
    "import numpy as np\n",
    "import pandas as pd\n",
    "\n",
    "x = np.linspace(-10,10,100)\n",
    "y = 3*x+2\n",
    "plt.plot(x, y,'r',label ='y=2x+1')\n",
    "plt.title('plot of y=2x+1')\n",
    "plt.xlabel('x', color='blue')\n",
    "plt.ylabel('y', color='blue')\n",
    "plt.legend(loc='lower right')\n",
    "pyplot.grid(color='lightgray',linestyle='--')\n",
    "plt.show()"
   ]
  },
  {
   "cell_type": "markdown",
   "id": "27865a01",
   "metadata": {},
   "source": [
    "14. Scatter plot all the points.\n",
    "\n",
    "• Generate a set of n = 100 points, X = xi, i = 1,2, .... n, xiεR2 within an ellipse centered at μx = 5 and μy = −5 and has a major axis of 10 and minor axis of 5.\n",
    "\n",
    "• Plot all the points using Matplotlib."
   ]
  },
  {
   "cell_type": "code",
   "execution_count": 3,
   "id": "98a55cc1",
   "metadata": {},
   "outputs": [
    {
     "data": {
      "image/png": "[encoded data removed]",
      "text/plain": [
       "<Figure size 432x288 with 1 Axes>"
      ]
     },
     "metadata": {
      "needs_background": "light"
     },
     "output_type": "display_data"
    }
   ],
   "source": [
    "# Imports\n",
    "import numpy as np\n",
    "from matplotlib import pyplot \n",
    "from math import pi\n",
    "from numpy import random\n",
    "\n",
    "# variables declaration\n",
    "u= 5  \n",
    "v=-5   \n",
    "a= 5    \n",
    "b= 2.5 \n",
    "\n",
    "# Ellipse using parametric equations\n",
    "t = np.linspace(0, 2*pi, 200)\n",
    "pyplot.plot( u+a*np.cos(t) , v+b*np.sin(t) )\n",
    "pyplot.grid(color='lightgray',linestyle='--')\n",
    "\n",
    "# Genaerating random numbers and plotting inside ellipse\n",
    "x = []\n",
    "y = []\n",
    "for i in range(0,100):\n",
    "   c = random.randint(360)\n",
    "   r1 = u+a*np.cos(c)*random.random() \n",
    "   r2 = v+b*np.sin(c)*random.random()\n",
    "   x.append(r1)\n",
    "   y.append(r2) \n",
    "pyplot.plot(x,y,'bo')\n",
    "pyplot.show()"
   ]
  }
 ],
 "metadata": {
  "kernelspec": {
   "display_name": "Python 3",
   "language": "python",
   "name": "python3"
  },
  "language_info": {
   "codemirror_mode": {
    "name": "ipython",
    "version": 3
   },
   "file_extension": ".py",
   "mimetype": "text/x-python",
   "name": "python",
   "nbconvert_exporter": "python",
   "pygments_lexer": "ipython3",
   "version": "3.8.8"
  }
 },
 "nbformat": 4,
 "nbformat_minor": 5
}
